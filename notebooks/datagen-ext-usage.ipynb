{
 "cells": [
  {
   "cell_type": "code",
   "execution_count": 0,
   "metadata": {
    "application/vnd.databricks.v1+cell": {
     "cellMetadata": {
      "byteLimit": 2048000,
      "rowLimit": 10000
     },
     "inputWidgets": {},
     "nuid": "81a32bb0-f8e7-4540-82f1-7c1e67131182",
     "showTitle": false,
     "tableResultSettingsMap": {},
     "title": ""
    }
   },
   "outputs": [
    {
     "output_type": "stream",
     "name": "stdout",
     "output_type": "stream",
     "text": [
      "Processing /Volumes/anup_kalburgi/datagen/build_files/datagen_ext-0.1.19-py3-none-any.whl\nRequirement already satisfied: dbldatagen==0.4.0.post1 in /local_disk0/.ephemeral_nfs/envs/pythonEnv-a2b5513c-3fa7-473c-87a0-8058f7f1a9ac/lib/python3.11/site-packages (from datagen-ext==0.1.19) (0.4.0.post1)\nRequirement already satisfied: pydantic>=1.10.6 in /databricks/python3/lib/python3.11/site-packages (from datagen-ext==0.1.19) (1.10.6)\nRequirement already satisfied: typing-extensions>=4.2.0 in /databricks/python3/lib/python3.11/site-packages (from pydantic>=1.10.6->datagen-ext==0.1.19) (4.10.0)\nInstalling collected packages: datagen-ext\n  Attempting uninstall: datagen-ext\n    Found existing installation: datagen_ext 0.1.18\n    Uninstalling datagen_ext-0.1.18:\n      Successfully uninstalled datagen_ext-0.1.18\nSuccessfully installed datagen-ext-0.1.19\n\u001B[43mNote: you may need to restart the kernel using %restart_python or dbutils.library.restartPython() to use updated packages.\u001B[0m\n"
     ]
    }
   ],
   "source": [
    "!pip install /Volumes/anup_kalburgi/datagen/build_files/datagen_ext-0.1.19-py3-none-any.whl"
   ]
  },
  {
   "cell_type": "code",
   "execution_count": 0,
   "metadata": {
    "application/vnd.databricks.v1+cell": {
     "cellMetadata": {
      "byteLimit": 2048000,
      "rowLimit": 10000
     },
     "inputWidgets": {},
     "nuid": "b76b2f28-cbb6-41a7-a94b-16528a6744d9",
     "showTitle": false,
     "tableResultSettingsMap": {},
     "title": ""
    }
   },
   "outputs": [],
   "source": [
    "dbutils.library.restartPython()"
   ]
  },
  {
   "cell_type": "code",
   "execution_count": 0,
   "metadata": {
    "application/vnd.databricks.v1+cell": {
     "cellMetadata": {
      "byteLimit": 2048000,
      "rowLimit": 10000
     },
     "inputWidgets": {},
     "nuid": "2dc40349-b99a-4590-bd63-20b27a97a3b1",
     "showTitle": false,
     "tableResultSettingsMap": {},
     "title": ""
    }
   },
   "outputs": [],
   "source": [
    "from datagen_ext.spec_generators.uc_generator import DatabricksUCSpecGenerator\n",
    "from datagen_ext.models import DatagenSpec"
   ]
  },
  {
   "cell_type": "code",
   "execution_count": 0,
   "metadata": {
    "application/vnd.databricks.v1+cell": {
     "cellMetadata": {
      "byteLimit": 2048000,
      "rowLimit": 10000
     },
     "inputWidgets": {},
     "nuid": "170211db-e1ec-42aa-8528-a14109e691a6",
     "showTitle": false,
     "tableResultSettingsMap": {},
     "title": ""
    }
   },
   "outputs": [],
   "source": [
    "uc_table_identifier = [\"anup_kalburgi.person.person_details\"]\n",
    "config_generator = DatabricksUCSpecGenerator(tables=uc_table_identifier)"
   ]
  },
  {
   "cell_type": "code",
   "execution_count": 0,
   "metadata": {
    "application/vnd.databricks.v1+cell": {
     "cellMetadata": {
      "byteLimit": 2048000,
      "rowLimit": 10000
     },
     "inputWidgets": {},
     "nuid": "3ee09d25-467e-4da9-8677-cdcac3c8ac93",
     "showTitle": false,
     "tableResultSettingsMap": {},
     "title": ""
    }
   },
   "outputs": [],
   "source": [
    "obj = config_generator.generate_spec()"
   ]
  },
  {
   "cell_type": "code",
   "execution_count": 0,
   "metadata": {
    "application/vnd.databricks.v1+cell": {
     "cellMetadata": {
      "byteLimit": 2048000,
      "rowLimit": 10000
     },
     "inputWidgets": {},
     "nuid": "3ffb5a78-1339-4265-bbef-f81d065d2f1d",
     "showTitle": false,
     "tableResultSettingsMap": {},
     "title": ""
    }
   },
   "outputs": [
    {
     "output_type": "stream",
     "name": "stdout",
     "output_type": "stream",
     "text": [
      "\nTable: anup_kalburgi.person.person_details\n\tOutput Path/Table: anup_kalburgi.person.person_details\n"
     ]
    },
    {
     "output_type": "display_data",
     "data": {
      "text/html": [
       "<div>\n",
       "<style scoped>\n",
       "    .dataframe tbody tr th:only-of-type {\n",
       "        vertical-align: middle;\n",
       "    }\n",
       "\n",
       "    .dataframe tbody tr th {\n",
       "        vertical-align: top;\n",
       "    }\n",
       "\n",
       "    .dataframe thead th {\n",
       "        text-align: right;\n",
       "    }\n",
       "</style>\n",
       "<table border=\"1\" class=\"dataframe\">\n",
       "  <thead>\n",
       "    <tr style=\"text-align: right;\">\n",
       "      <th></th>\n",
       "      <th>name</th>\n",
       "      <th>type</th>\n",
       "      <th>primary</th>\n",
       "      <th>options</th>\n",
       "      <th>nullable</th>\n",
       "      <th>omit</th>\n",
       "      <th>baseColumn</th>\n",
       "      <th>baseColumnType</th>\n",
       "    </tr>\n",
       "  </thead>\n",
       "  <tbody>\n",
       "    <tr>\n",
       "      <th>0</th>\n",
       "      <td>UserID</td>\n",
       "      <td>integer</td>\n",
       "      <td>True</td>\n",
       "      <td>{}</td>\n",
       "      <td>False</td>\n",
       "      <td>False</td>\n",
       "      <td>id</td>\n",
       "      <td>auto</td>\n",
       "    </tr>\n",
       "    <tr>\n",
       "      <th>1</th>\n",
       "      <td>UserName</td>\n",
       "      <td>string</td>\n",
       "      <td>False</td>\n",
       "      <td>{}</td>\n",
       "      <td>True</td>\n",
       "      <td>False</td>\n",
       "      <td>id</td>\n",
       "      <td>auto</td>\n",
       "    </tr>\n",
       "    <tr>\n",
       "      <th>2</th>\n",
       "      <td>Email</td>\n",
       "      <td>string</td>\n",
       "      <td>False</td>\n",
       "      <td>{}</td>\n",
       "      <td>True</td>\n",
       "      <td>False</td>\n",
       "      <td>id</td>\n",
       "      <td>auto</td>\n",
       "    </tr>\n",
       "    <tr>\n",
       "      <th>3</th>\n",
       "      <td>SignUpDate</td>\n",
       "      <td>date</td>\n",
       "      <td>False</td>\n",
       "      <td>{}</td>\n",
       "      <td>True</td>\n",
       "      <td>False</td>\n",
       "      <td>id</td>\n",
       "      <td>auto</td>\n",
       "    </tr>\n",
       "  </tbody>\n",
       "</table>\n",
       "</div>"
      ],
      "text/plain": [
       "         name     type  primary  ...   omit  baseColumn  baseColumnType\n",
       "0      UserID  integer     True  ...  False          id            auto\n",
       "1    UserName   string    False  ...  False          id            auto\n",
       "2       Email   string    False  ...  False          id            auto\n",
       "3  SignUpDate     date    False  ...  False          id            auto\n",
       "\n",
       "[4 rows x 8 columns]"
      ]
     },
     "metadata": {},
     "output_type": "display_data"
    }
   ],
   "source": [
    "obj.display_all_tables()"
   ]
  },
  {
   "cell_type": "code",
   "execution_count": 0,
   "metadata": {
    "application/vnd.databricks.v1+cell": {
     "cellMetadata": {
      "byteLimit": 2048000,
      "rowLimit": 10000
     },
     "inputWidgets": {},
     "nuid": "2f22f9f8-f34c-49a9-8d3b-1b3acdc23c8f",
     "showTitle": false,
     "tableResultSettingsMap": {},
     "title": ""
    }
   },
   "outputs": [],
   "source": [
    "from datagen_ext.generator import Generator"
   ]
  },
  {
   "cell_type": "code",
   "execution_count": 0,
   "metadata": {
    "application/vnd.databricks.v1+cell": {
     "cellMetadata": {
      "byteLimit": 2048000,
      "rowLimit": 10000
     },
     "inputWidgets": {},
     "nuid": "d6969875-8d26-40f7-9bc1-a345a7fc657a",
     "showTitle": false,
     "tableResultSettingsMap": {},
     "title": ""
    }
   },
   "outputs": [],
   "source": [
    "obj.output_path_prefix = \"/Volumes/anup_kalburgi/datagen/generated_data\""
   ]
  },
  {
   "cell_type": "code",
   "execution_count": 0,
   "metadata": {
    "application/vnd.databricks.v1+cell": {
     "cellMetadata": {
      "byteLimit": 2048000,
      "rowLimit": 10000
     },
     "inputWidgets": {},
     "nuid": "8ed5321f-7626-45d0-a11f-b2a9922913d2",
     "showTitle": false,
     "tableResultSettingsMap": {},
     "title": ""
    }
   },
   "outputs": [
    {
     "output_type": "stream",
     "name": "stderr",
     "output_type": "stream",
     "text": [
      "2025-05-20 20:10:22 - datagen_ext.generator - INFO - Using provided SparkSession.\n2025-05-20 20:10:22 - datagen_ext.generator - INFO - Starting combined data generation and writing for config: PydanticConfig\n2025-05-20 20:10:22 - datagen_ext.generator - INFO - Using validated output path prefix: /Volumes/anup_kalburgi/datagen/generated_data\n2025-05-20 20:10:22 - datagen_ext.generator - INFO - Starting data generator preparation for config: PydanticConfig\n2025-05-20 20:10:22 - datagen_ext.generator - INFO - Preparing DataGenerator specs for tables in order: ['anup_kalburgi.person.person_details']\n2025-05-20 20:10:22 - datagen_ext.generator - INFO - --- Preparing DataGenerator spec for table: anup_kalburgi.person.person_details ---\n2025-05-20 20:10:22 - datagen_ext.generator - WARNING - Could not get default Spark parallelism for table 'anup_kalburgi.person.person_details', defaulting to 4. Error: [JVM_ATTRIBUTE_NOT_SUPPORTED] Attribute `sparkContext` is not supported in Spark Connect as it depends on the JVM. If you need to use this attribute, do not use Spark Connect when creating your session. Visit https://spark.apache.org/docs/latest/sql-getting-started.html#starting-point-sparksession for creating regular Spark Session in detail.\n2025-05-20 20:10:24 - datagen_ext.generator - INFO - Table 'anup_kalburgi.person.person_details': Column 'UserID' is PRIMARY KEY. Deriving from 'id'.\n2025-05-20 20:10:25 - datagen_ext.generator - INFO - --- Successfully prepared DataGenerator spec for table: anup_kalburgi.person.person_details ---\n2025-05-20 20:10:25 - datagen_ext.generator - INFO - --- DataGenerator spec preparation completed successfully for config: PydanticConfig ---\n2025-05-20 20:10:25 - datagen_ext.generator - INFO - Starting data writing from prepared generators for config: PydanticConfig\n2025-05-20 20:10:25 - datagen_ext.generator - INFO - --- Starting data build and write for table: anup_kalburgi.person.person_details ---\n2025-05-20 20:10:25 - datagen_ext.generator - INFO - Table 'anup_kalburgi.person.person_details': Building DataFrame...\n2025-05-20 20:10:28 - datagen_ext.generator - INFO - Table 'anup_kalburgi.person.person_details': Built DataFrame with 5000 rows (requested: 5000).\n2025-05-20 20:10:28 - datagen_ext.generator - INFO - Table 'anup_kalburgi.person.person_details': Writing parquet data to: /Volumes/anup_kalburgi/datagen/generated_data/anup_kalburgi.person.person_details\n2025-05-20 20:10:30 - datagen_ext.generator - INFO - Table 'anup_kalburgi.person.person_details': Finished writing.\n2025-05-20 20:10:30 - datagen_ext.generator - INFO - --- Data writing completed successfully for attempted tables for config: PydanticConfig ---\n2025-05-20 20:10:30 - datagen_ext.generator - INFO - Combined data generation and writing completed successfully for config: PydanticConfig\n"
     ]
    }
   ],
   "source": [
    "generator = Generator(spark=spark)\n",
    "df = generator.generate_and_write_data(obj)"
   ]
  },
  {
   "cell_type": "code",
   "execution_count": 0,
   "metadata": {
    "application/vnd.databricks.v1+cell": {
     "cellMetadata": {
      "byteLimit": 2048000,
      "rowLimit": 10000
     },
     "inputWidgets": {},
     "nuid": "5e35a98f-a68f-4309-ab41-f1ce0dd7e93d",
     "showTitle": false,
     "tableResultSettingsMap": {},
     "title": ""
    }
   },
   "outputs": [
    {
     "output_type": "execute_result",
     "data": {
      "text/plain": [
       "True"
      ]
     },
     "execution_count": 8,
     "metadata": {},
     "output_type": "execute_result"
    }
   ],
   "source": [
    "df"
   ]
  }
 ],
 "metadata": {
  "application/vnd.databricks.v1+notebook": {
   "computePreferences": null,
   "dashboards": [],
   "environmentMetadata": {
    "base_environment": "",
    "environment_version": "2"
   },
   "inputWidgetPreferences": null,
   "language": "python",
   "notebookMetadata": {
    "pythonIndentUnit": 2
   },
   "notebookName": "datagen_lib_exp",
   "widgets": {}
  },
  "language_info": {
   "name": "python"
  }
 },
 "nbformat": 4,
 "nbformat_minor": 0
}